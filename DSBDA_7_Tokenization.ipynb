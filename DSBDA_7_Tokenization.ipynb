{
 "cells": [
  {
   "cell_type": "code",
   "execution_count": 23,
   "id": "6503a594",
   "metadata": {},
   "outputs": [
    {
     "name": "stderr",
     "output_type": "stream",
     "text": [
      "[nltk_data] Downloading package punkt to C:\\Users\\OM\n",
      "[nltk_data]     TATHED\\AppData\\Roaming\\nltk_data...\n",
      "[nltk_data]   Package punkt is already up-to-date!\n",
      "[nltk_data] Downloading package wordnet to C:\\Users\\OM\n",
      "[nltk_data]     TATHED\\AppData\\Roaming\\nltk_data...\n",
      "[nltk_data]   Package wordnet is already up-to-date!\n",
      "[nltk_data] Downloading package averaged_perceptron_tagger to\n",
      "[nltk_data]     C:\\Users\\OM TATHED\\AppData\\Roaming\\nltk_data...\n",
      "[nltk_data]   Package averaged_perceptron_tagger is already up-to-\n",
      "[nltk_data]       date!\n",
      "[nltk_data] Downloading package stopwords to C:\\Users\\OM\n",
      "[nltk_data]     TATHED\\AppData\\Roaming\\nltk_data...\n",
      "[nltk_data]   Package stopwords is already up-to-date!\n",
      "[nltk_data] Downloading package universal_tagset to C:\\Users\\OM\n",
      "[nltk_data]     TATHED\\AppData\\Roaming\\nltk_data...\n",
      "[nltk_data]   Package universal_tagset is already up-to-date!\n"
     ]
    }
   ],
   "source": [
    "import nltk\n",
    "nltk.download('punkt')\n",
    "nltk.download('wordnet')\n",
    "nltk.download('averaged_perceptron_tagger')\n",
    "nltk.download('stopwords')\n",
    "nltk.download('universal_tagset')\n",
    "from nltk import sent_tokenize\n",
    "from nltk import word_tokenize\n",
    "from nltk.corpus import stopwords"
   ]
  },
  {
   "cell_type": "code",
   "execution_count": 24,
   "id": "51c3954e",
   "metadata": {},
   "outputs": [],
   "source": [
    "text = \"Real Madrid, a football powerhouse with 13 UEFA Champions League titles, saw Cristiano Ronaldo shine during his tenure from 2009 to 2018. Ronaldo, widely regarded as one of the greatest players ever, left an enduring legacy as Real Madrid's all-time leading scorer and helped clinch multiple domestic and international trophies.\""
   ]
  },
  {
   "cell_type": "code",
   "execution_count": 25,
   "id": "e6e28649",
   "metadata": {},
   "outputs": [
    {
     "name": "stdout",
     "output_type": "stream",
     "text": [
      "['Real Madrid, a football powerhouse with 13 UEFA Champions League titles, saw Cristiano Ronaldo shine during his tenure from 2009 to 2018.', \"Ronaldo, widely regarded as one of the greatest players ever, left an enduring legacy as Real Madrid's all-time leading scorer and helped clinch multiple domestic and international trophies.\"]\n"
     ]
    }
   ],
   "source": [
    "tokens_sents = nltk.sent_tokenize(text)\n",
    "print(tokens_sents)"
   ]
  },
  {
   "cell_type": "code",
   "execution_count": 26,
   "id": "623db0bb",
   "metadata": {},
   "outputs": [
    {
     "name": "stdout",
     "output_type": "stream",
     "text": [
      "['Real', 'Madrid', ',', 'a', 'football', 'powerhouse', 'with', '13', 'UEFA', 'Champions', 'League', 'titles', ',', 'saw', 'Cristiano', 'Ronaldo', 'shine', 'during', 'his', 'tenure', 'from', '2009', 'to', '2018', '.', 'Ronaldo', ',', 'widely', 'regarded', 'as', 'one', 'of', 'the', 'greatest', 'players', 'ever', ',', 'left', 'an', 'enduring', 'legacy', 'as', 'Real', 'Madrid', \"'s\", 'all-time', 'leading', 'scorer', 'and', 'helped', 'clinch', 'multiple', 'domestic', 'and', 'international', 'trophies', '.']\n"
     ]
    }
   ],
   "source": [
    "tokens_words = nltk.word_tokenize(text)\n",
    "print(tokens_words)"
   ]
  },
  {
   "cell_type": "code",
   "execution_count": 27,
   "id": "3b7e1d49",
   "metadata": {},
   "outputs": [],
   "source": [
    "from nltk.stem import PorterStemmer\n",
    "from nltk.stem.snowball import SnowballStemmer\n",
    "from nltk.stem import LancasterStemmer"
   ]
  },
  {
   "cell_type": "code",
   "execution_count": 28,
   "id": "bcfd6f37",
   "metadata": {},
   "outputs": [
    {
     "name": "stdout",
     "output_type": "stream",
     "text": [
      "['real', 'madrid', ',', 'a', 'footbal', 'powerhous', 'with', '13', 'uefa', 'champion', 'leagu', 'titl', ',', 'saw', 'cristiano', 'ronaldo', 'shine', 'dure', 'hi', 'tenur', 'from', '2009', 'to', '2018', '.', 'ronaldo', ',', 'wide', 'regard', 'as', 'one', 'of', 'the', 'greatest', 'player', 'ever', ',', 'left', 'an', 'endur', 'legaci', 'as', 'real', 'madrid', \"'s\", 'all-tim', 'lead', 'scorer', 'and', 'help', 'clinch', 'multipl', 'domest', 'and', 'intern', 'trophi', '.']\n"
     ]
    }
   ],
   "source": [
    "stem=[]\n",
    "for i in tokens_words:\n",
    "  ps = PorterStemmer()\n",
    "  stem_word= ps.stem(i)\n",
    "  stem.append(stem_word)\n",
    "print(stem)"
   ]
  },
  {
   "cell_type": "code",
   "execution_count": 29,
   "id": "a4531e33",
   "metadata": {},
   "outputs": [
    {
     "name": "stderr",
     "output_type": "stream",
     "text": [
      "[nltk_data] Downloading package omw-1.4 to C:\\Users\\OM\n",
      "[nltk_data]     TATHED\\AppData\\Roaming\\nltk_data...\n",
      "[nltk_data]   Package omw-1.4 is already up-to-date!\n"
     ]
    }
   ],
   "source": [
    "import nltk\n",
    "nltk.download('omw-1.4')\n",
    "from nltk.stem import WordNetLemmatizer \n",
    "lemmatizer = WordNetLemmatizer()"
   ]
  },
  {
   "cell_type": "code",
   "execution_count": 30,
   "id": "3b163284",
   "metadata": {},
   "outputs": [
    {
     "name": "stdout",
     "output_type": "stream",
     "text": [
      "real madrid , a footbal powerhous with 13 uefa champion leagu titl , saw cristiano ronaldo shine dure hi tenur from 2009 to 2018 . ronaldo , wide regard a one of the greatest player ever , left an endur legaci a real madrid 's all-tim lead scorer and help clinch multipl domest and intern trophi .\n"
     ]
    }
   ],
   "source": [
    "lemmatized_output = ' '.join([lemmatizer.lemmatize(w) for w in stem])\n",
    "print(lemmatized_output)"
   ]
  },
  {
   "cell_type": "code",
   "execution_count": 31,
   "id": "e9d44015",
   "metadata": {},
   "outputs": [
    {
     "name": "stdout",
     "output_type": "stream",
     "text": [
      "['real', 'madrid', ',', 'a', 'footbal', 'powerhous', 'with', '13', 'uefa', 'champion', 'leagu', 'titl', ',', 'saw', 'cristiano', 'ronaldo', 'shine', 'dure', 'hi', 'tenur', 'from', '2009', 'to', '2018', '.', 'ronaldo', ',', 'wide', 'regard', 'a', 'one', 'of', 'the', 'greatest', 'player', 'ever', ',', 'left', 'an', 'endur', 'legaci', 'a', 'real', 'madrid', \"'s\", 'all-tim', 'lead', 'scorer', 'and', 'help', 'clinch', 'multipl', 'domest', 'and', 'intern', 'trophi', '.']\n"
     ]
    }
   ],
   "source": [
    "leme=[]\n",
    "for i in stem:\n",
    "  lemetized_word=lemmatizer.lemmatize(i)\n",
    "  leme.append(lemetized_word)\n",
    "print(leme)\n"
   ]
  },
  {
   "cell_type": "code",
   "execution_count": 32,
   "id": "7679248f",
   "metadata": {},
   "outputs": [
    {
     "name": "stdout",
     "output_type": "stream",
     "text": [
      "Parts of Speech:  [('real', 'ADJ'), ('madrid', 'NOUN'), (',', '.'), ('a', 'DET'), ('footbal', 'ADJ'), ('powerhous', 'ADJ'), ('with', 'ADP'), ('13', 'NUM'), ('uefa', 'ADJ'), ('champion', 'NOUN'), ('leagu', 'NOUN'), ('titl', 'NOUN'), (',', '.'), ('saw', 'VERB'), ('cristiano', 'NOUN'), ('ronaldo', 'NOUN'), ('shine', 'ADJ'), ('dure', 'NOUN'), ('hi', 'NOUN'), ('tenur', 'NOUN'), ('from', 'ADP'), ('2009', 'NUM'), ('to', 'PRT'), ('2018', 'NUM'), ('.', '.'), ('ronaldo', 'NOUN'), (',', '.'), ('wide', 'ADJ'), ('regard', 'NOUN'), ('a', 'DET'), ('one', 'NUM'), ('of', 'ADP'), ('the', 'DET'), ('greatest', 'ADJ'), ('player', 'NOUN'), ('ever', 'ADV'), (',', '.'), ('left', 'VERB'), ('an', 'DET'), ('endur', 'NOUN'), ('legaci', 'VERB'), ('a', 'DET'), ('real', 'ADJ'), ('madrid', 'NOUN'), (\"'s\", 'PRT'), ('all-tim', 'ADJ'), ('lead', 'NOUN'), ('scorer', 'NOUN'), ('and', 'CONJ'), ('help', 'VERB'), ('clinch', 'NOUN'), ('multipl', 'NOUN'), ('domest', 'NOUN'), ('and', 'CONJ'), ('intern', 'ADJ'), ('trophi', 'NOUN'), ('.', '.')]\n"
     ]
    }
   ],
   "source": [
    "print(\"Parts of Speech: \",nltk.pos_tag(leme, tagset='universal'))"
   ]
  },
  {
   "cell_type": "code",
   "execution_count": 33,
   "id": "8da1b1a9",
   "metadata": {},
   "outputs": [
    {
     "name": "stdout",
     "output_type": "stream",
     "text": [
      "['i', 'me', 'my', 'myself', 'we', 'our', 'ours', 'ourselves', 'you', \"you're\", \"you've\", \"you'll\", \"you'd\", 'your', 'yours', 'yourself', 'yourselves', 'he', 'him', 'his', 'himself', 'she', \"she's\", 'her', 'hers', 'herself', 'it', \"it's\", 'its', 'itself', 'they', 'them', 'their', 'theirs', 'themselves', 'what', 'which', 'who', 'whom', 'this', 'that', \"that'll\", 'these', 'those', 'am', 'is', 'are', 'was', 'were', 'be', 'been', 'being', 'have', 'has', 'had', 'having', 'do', 'does', 'did', 'doing', 'a', 'an', 'the', 'and', 'but', 'if', 'or', 'because', 'as', 'until', 'while', 'of', 'at', 'by', 'for', 'with', 'about', 'against', 'between', 'into', 'through', 'during', 'before', 'after', 'above', 'below', 'to', 'from', 'up', 'down', 'in', 'out', 'on', 'off', 'over', 'under', 'again', 'further', 'then', 'once', 'here', 'there', 'when', 'where', 'why', 'how', 'all', 'any', 'both', 'each', 'few', 'more', 'most', 'other', 'some', 'such', 'no', 'nor', 'not', 'only', 'own', 'same', 'so', 'than', 'too', 'very', 's', 't', 'can', 'will', 'just', 'don', \"don't\", 'should', \"should've\", 'now', 'd', 'll', 'm', 'o', 're', 've', 'y', 'ain', 'aren', \"aren't\", 'couldn', \"couldn't\", 'didn', \"didn't\", 'doesn', \"doesn't\", 'hadn', \"hadn't\", 'hasn', \"hasn't\", 'haven', \"haven't\", 'isn', \"isn't\", 'ma', 'mightn', \"mightn't\", 'mustn', \"mustn't\", 'needn', \"needn't\", 'shan', \"shan't\", 'shouldn', \"shouldn't\", 'wasn', \"wasn't\", 'weren', \"weren't\", 'won', \"won't\", 'wouldn', \"wouldn't\"]\n"
     ]
    }
   ],
   "source": [
    "sw_nltk = stopwords.words('english')\n",
    "print(sw_nltk)"
   ]
  },
  {
   "cell_type": "code",
   "execution_count": 34,
   "id": "0bbdad34",
   "metadata": {},
   "outputs": [
    {
     "name": "stdout",
     "output_type": "stream",
     "text": [
      "Real Madrid, football powerhouse 13 UEFA Champions League titles, saw Cristiano Ronaldo shine tenure 2009 2018. Ronaldo, widely regarded one greatest players ever, left enduring legacy Real Madrid's all-time leading scorer helped clinch multiple domestic international trophies.\n"
     ]
    }
   ],
   "source": [
    "words = [word for word in text.split() if word.lower() not in sw_nltk]\n",
    "new_text = \" \".join(words)\n",
    "print(new_text)"
   ]
  },
  {
   "cell_type": "code",
   "execution_count": 35,
   "id": "bf79c02d",
   "metadata": {},
   "outputs": [],
   "source": [
    "from sklearn.feature_extraction.text import TfidfVectorizer"
   ]
  },
  {
   "cell_type": "code",
   "execution_count": 36,
   "id": "7396508b",
   "metadata": {},
   "outputs": [],
   "source": [
    "preprocessed_text = lemmatized_output\n",
    "documents = [preprocessed_text]"
   ]
  },
  {
   "cell_type": "code",
   "execution_count": 37,
   "id": "dd39a1e4",
   "metadata": {},
   "outputs": [],
   "source": [
    "tfidf_vectorizer = TfidfVectorizer()\n",
    "tfidf_matrix = tfidf_vectorizer.fit_transform(documents)"
   ]
  },
  {
   "cell_type": "code",
   "execution_count": 38,
   "id": "fe447897",
   "metadata": {},
   "outputs": [],
   "source": [
    "terms = tfidf_vectorizer.get_feature_names_out()"
   ]
  },
  {
   "cell_type": "code",
   "execution_count": 39,
   "id": "7f633e25",
   "metadata": {},
   "outputs": [
    {
     "name": "stdout",
     "output_type": "stream",
     "text": [
      "TF-IDF Matrix:\n",
      "[[0.13363062 0.13363062 0.13363062 0.13363062 0.13363062 0.26726124\n",
      "  0.13363062 0.13363062 0.13363062 0.13363062 0.13363062 0.13363062\n",
      "  0.13363062 0.13363062 0.13363062 0.13363062 0.13363062 0.13363062\n",
      "  0.13363062 0.13363062 0.13363062 0.13363062 0.13363062 0.26726124\n",
      "  0.13363062 0.13363062 0.13363062 0.13363062 0.13363062 0.26726124\n",
      "  0.13363062 0.26726124 0.13363062 0.13363062 0.13363062 0.13363062\n",
      "  0.13363062 0.13363062 0.13363062 0.13363062 0.13363062 0.13363062\n",
      "  0.13363062 0.13363062]]\n"
     ]
    }
   ],
   "source": [
    "print(\"TF-IDF Matrix:\")\n",
    "print(tfidf_matrix.toarray())"
   ]
  },
  {
   "cell_type": "code",
   "execution_count": 40,
   "id": "05041688",
   "metadata": {},
   "outputs": [
    {
     "name": "stdout",
     "output_type": "stream",
     "text": [
      "\n",
      "Feature Names (Terms):\n",
      "['13' '2009' '2018' 'all' 'an' 'and' 'champion' 'clinch' 'cristiano'\n",
      " 'domest' 'dure' 'endur' 'ever' 'footbal' 'from' 'greatest' 'help' 'hi'\n",
      " 'intern' 'lead' 'leagu' 'left' 'legaci' 'madrid' 'multipl' 'of' 'one'\n",
      " 'player' 'powerhous' 'real' 'regard' 'ronaldo' 'saw' 'scorer' 'shine'\n",
      " 'tenur' 'the' 'tim' 'titl' 'to' 'trophi' 'uefa' 'wide' 'with']\n"
     ]
    }
   ],
   "source": [
    "print(\"\\nFeature Names (Terms):\")\n",
    "print(terms)"
   ]
  },
  {
   "cell_type": "code",
   "execution_count": null,
   "id": "f081dbc0-06f0-4e9a-8431-64f29e1c9d6f",
   "metadata": {},
   "outputs": [],
   "source": []
  }
 ],
 "metadata": {
  "kernelspec": {
   "display_name": "Python 3 (ipykernel)",
   "language": "python",
   "name": "python3"
  },
  "language_info": {
   "codemirror_mode": {
    "name": "ipython",
    "version": 3
   },
   "file_extension": ".py",
   "mimetype": "text/x-python",
   "name": "python",
   "nbconvert_exporter": "python",
   "pygments_lexer": "ipython3",
   "version": "3.12.3"
  }
 },
 "nbformat": 4,
 "nbformat_minor": 5
}
